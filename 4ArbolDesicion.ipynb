{
  "cells": [
    {
      "cell_type": "code",
      "execution_count": 30,
      "metadata": {
        "id": "H8p0xxiNvNzc"
      },
      "outputs": [],
      "source": [
        "import pandas as pd\n",
        "from sklearn.model_selection import train_test_split\n",
        "from sklearn.feature_extraction.text import TfidfVectorizer\n",
        "from sklearn.tree import DecisionTreeClassifier\n",
        "from sklearn.metrics import accuracy_score, precision_score, f1_score"
      ]
    },
    {
      "cell_type": "code",
      "execution_count": 31,
      "metadata": {
        "id": "NeDhgDq3vfST"
      },
      "outputs": [],
      "source": [
        "X_train = pd.read_csv(\"./data_processed/X_train.csv\", index_col=None, encoding='utf-8')\n",
        "y_train = pd.read_csv(\"./data_processed/y_train.csv\", index_col=None, encoding='utf-8')\n",
        "\n",
        "X_test = pd.read_csv(\"./data_processed/X_test.csv\", index_col=None, encoding='utf-8')\n",
        "y_test = pd.read_csv(\"./data_processed/y_test.csv\", index_col=None, encoding='utf-8')"
      ]
    },
    {
      "cell_type": "code",
      "execution_count": 32,
      "metadata": {
        "colab": {
          "base_uri": "https://localhost:8080/",
          "height": 75
        },
        "id": "0f9Oa1t-zdha",
        "outputId": "f3e8665d-8883-47c8-a7d9-2742c0ef5eac"
      },
      "outputs": [],
      "source": [
        "y_train = y_train.values.ravel()\n",
        "y_test = y_test.values.ravel()"
      ]
    },
    {
      "cell_type": "code",
      "execution_count": 50,
      "metadata": {
        "colab": {
          "base_uri": "https://localhost:8080/"
        },
        "id": "FwB1YLffzoIW",
        "outputId": "85dc020b-bd54-4470-8d55-a47c2dd5ceed"
      },
      "outputs": [
        {
          "name": "stdout",
          "output_type": "stream",
          "text": [
            "Exactitud (Accuracy): 0.5711159737417943\n",
            "Precisión (Precision): 0.625\n",
            "F1-score: 0.4442344045368621\n"
          ]
        }
      ],
      "source": [
        "model = DecisionTreeClassifier(criterion='gini', splitter='best', max_depth=10, random_state=10)\n",
        "model.fit(X_train, y_train)\n",
        "\n",
        "y_pred = model.predict(X_test)\n",
        "accuracy = accuracy_score(y_test, y_pred)\n",
        "precision = precision_score(y_test, y_pred)\n",
        "f1 = f1_score(y_test, y_pred)\n",
        "\n",
        "print(\"Exactitud (Accuracy):\", accuracy)\n",
        "print(\"Precisión (Precision):\", precision)\n",
        "print(\"F1-score:\", f1)"
      ]
    },
    {
      "cell_type": "code",
      "execution_count": 34,
      "metadata": {},
      "outputs": [
        {
          "name": "stdout",
          "output_type": "stream",
          "text": [
            "Exactitud (Accuracy): 0.5849744711889132\n",
            "Precisión (Precision): 0.6220302375809935\n",
            "F1-score: 0.503056768558952\n"
          ]
        }
      ],
      "source": [
        "from sklearn.ensemble import RandomForestClassifier\n",
        "\n",
        "# Crear datos y ajustar el modelo RandomForest\n",
        "rf = RandomForestClassifier(criterion='log_loss' ,n_estimators=1000, max_depth=5, min_samples_split=5, random_state=42)\n",
        "rf.fit(X_train, y_train)\n",
        "\n",
        "# Realizar predicciones\n",
        "y_pred = rf.predict(X_test)\n",
        "\n",
        "accuracy = accuracy_score(y_test, y_pred)\n",
        "precision = precision_score(y_test, y_pred)\n",
        "f1 = f1_score(y_test, y_pred)\n",
        "\n",
        "print(\"Exactitud (Accuracy):\", accuracy)\n",
        "print(\"Precisión (Precision):\", precision)\n",
        "print(\"F1-score:\", f1)"
      ]
    }
  ],
  "metadata": {
    "colab": {
      "provenance": []
    },
    "kernelspec": {
      "display_name": "Python 3",
      "name": "python3"
    },
    "language_info": {
      "codemirror_mode": {
        "name": "ipython",
        "version": 3
      },
      "file_extension": ".py",
      "mimetype": "text/x-python",
      "name": "python",
      "nbconvert_exporter": "python",
      "pygments_lexer": "ipython3",
      "version": "3.10.9"
    }
  },
  "nbformat": 4,
  "nbformat_minor": 0
}
