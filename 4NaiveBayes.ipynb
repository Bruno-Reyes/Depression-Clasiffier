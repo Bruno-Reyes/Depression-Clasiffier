{
  "cells": [
    {
      "cell_type": "code",
      "execution_count": 1,
      "metadata": {
        "id": "zJCe4o8hMcKC"
      },
      "outputs": [],
      "source": [
        "# Importamos librerias  \n",
        "import pandas as pd \n",
        "import numpy as np\n",
        "from sklearn.naive_bayes import MultinomialNB\n",
        "from sklearn.model_selection import KFold\n",
        "from sklearn.model_selection import cross_val_score\n",
        "from sklearn.preprocessing import LabelEncoder\n",
        "from sklearn.metrics import accuracy_score, precision_score, f1_score"
      ]
    },
    {
      "cell_type": "code",
      "execution_count": 2,
      "metadata": {},
      "outputs": [],
      "source": [
        "X_train = pd.read_csv(\"./data_processed/X_train.csv\", index_col=None, encoding='utf-8')\n",
        "y_train = pd.read_csv(\"./data_processed/y_train.csv\", index_col=None, encoding='utf-8')\n",
        "\n",
        "X_test = pd.read_csv(\"./data_processed/X_test.csv\", index_col=None, encoding='utf-8')\n",
        "y_test = pd.read_csv(\"./data_processed/y_test.csv\", index_col=None, encoding='utf-8')"
      ]
    },
    {
      "cell_type": "code",
      "execution_count": 3,
      "metadata": {
        "colab": {
          "base_uri": "https://localhost:8080/"
        },
        "id": "FMhwTk_tNAYJ",
        "outputId": "fd35b692-fb99-42e4-9ef3-256d3b6b434e"
      },
      "outputs": [
        {
          "name": "stdout",
          "output_type": "stream",
          "text": [
            "Accuaracy N. Bayes: 0.587892049598833\n",
            "Accuracy Bayes ingenuo (CrossVal): 60.5978\n"
          ]
        }
      ],
      "source": [
        "y_train = y_train.values.ravel()\n",
        "y_test = y_test.values.ravel()\n",
        "\n",
        "# Se crea un objeto de clasificador\n",
        "nb_model = MultinomialNB()\n",
        "# Se ajustan los datos al modelo, y se estiman los parámetros del modelo a partir del entrenamiento\n",
        "nb_model.fit(X_train, y_train)\n",
        "# Se utiliza el modelo ya ajustado para predecir las etiquetas de los datos de prueba, utilizando los datos de prueba\n",
        "\n",
        "nb_score = nb_model.score(X_test, y_test)\n",
        "print(f'Accuaracy N. Bayes: {nb_score}')\n",
        "# Se crea un objeto KFold con 5 divisiones (n_splits=5) que se utilizará para dividir los datos en 5 conjuntos diferentes \n",
        "kf = KFold(n_splits=5, shuffle=True, random_state=42)\n",
        "# Se aplica la validación cruzada al modelo de regresión Bayes\n",
        "nb_scores = cross_val_score(nb_model, X_train, y_train, cv=kf)\n",
        "# Imprimimos los resultados de la validación cruzada\n",
        "print(f\"Accuracy Bayes ingenuo (CrossVal): {np.mean(nb_scores)*100:.4f}\")\n"
      ]
    },
    {
      "cell_type": "code",
      "execution_count": 8,
      "metadata": {},
      "outputs": [
        {
          "name": "stdout",
          "output_type": "stream",
          "text": [
            "Exactitud: 0.59\n",
            "Precisión: 0.57\n",
            "Puntuación F1: 0.62\n"
          ]
        }
      ],
      "source": [
        "predictions = nb_model.predict(X_test)\n",
        "\n",
        "# Calcular la exactitud\n",
        "exactitud = round(accuracy_score(y_test, predictions),2)\n",
        "print(\"Exactitud:\", exactitud)\n",
        "\n",
        "# Calcular la preci sión\n",
        "precision = round(precision_score(y_test, predictions),2)\n",
        "print(\"Precisión:\", precision)\n",
        "\n",
        "# Calcular la puntuación F1\n",
        "f1 = round(f1_score(y_test, predictions),2)\n",
        "print(\"Puntuación F1:\", f1)"
      ]
    }
  ],
  "metadata": {
    "colab": {
      "provenance": []
    },
    "kernelspec": {
      "display_name": "Python 3",
      "name": "python3"
    },
    "language_info": {
      "codemirror_mode": {
        "name": "ipython",
        "version": 3
      },
      "file_extension": ".py",
      "mimetype": "text/x-python",
      "name": "python",
      "nbconvert_exporter": "python",
      "pygments_lexer": "ipython3",
      "version": "3.10.9"
    }
  },
  "nbformat": 4,
  "nbformat_minor": 0
}
