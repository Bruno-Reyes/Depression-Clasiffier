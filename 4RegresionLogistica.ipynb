{
 "cells": [
  {
   "cell_type": "code",
   "execution_count": 1,
   "metadata": {},
   "outputs": [],
   "source": [
    "import pandas as pd \n",
    "import numpy as np\n",
    "from sklearn.preprocessing import LabelEncoder\n",
    "from sklearn.feature_extraction.text import TfidfVectorizer\n",
    "from sklearn.naive_bayes import MultinomialNB\n",
    "from sklearn.model_selection import train_test_split\n",
    "from sklearn.model_selection import StratifiedKFold\n",
    "from sklearn.model_selection import KFold\n",
    "from sklearn.model_selection import cross_val_score\n",
    "from sklearn.linear_model import LogisticRegression\n",
    "from sklearn.metrics import accuracy_score, precision_score, f1_score"
   ]
  },
  {
   "cell_type": "code",
   "execution_count": 2,
   "metadata": {},
   "outputs": [],
   "source": [
    "X_train = pd.read_csv(\"./data_processed/X_train.csv\", index_col=None, encoding='utf-8')\n",
    "y_train = pd.read_csv(\"./data_processed/y_train.csv\", index_col=None, encoding='utf-8')\n",
    "\n",
    "X_test = pd.read_csv(\"./data_processed/X_test.csv\", index_col=None, encoding='utf-8')\n",
    "y_test = pd.read_csv(\"./data_processed/y_test.csv\", index_col=None, encoding='utf-8')"
   ]
  },
  {
   "cell_type": "code",
   "execution_count": 3,
   "metadata": {},
   "outputs": [
    {
     "name": "stdout",
     "output_type": "stream",
     "text": [
      "Accuracy LR (CrossVal): 60.8539%\n"
     ]
    }
   ],
   "source": [
    "y_train = y_train.values.ravel()\n",
    "y_test = y_test.values.ravel()\n",
    "\n",
    "lr_model = LogisticRegression()\n",
    "# Se ajustan los datos al modelo\n",
    "lr_model.fit(X_train, y_train)\n",
    "\n",
    "#Se crea un objeto KFold con 5 divisiones (n_splits=5) que se utilizará para dividir los datos en 5 conjuntos diferentes \n",
    "kf = KFold(n_splits=5, shuffle=True, random_state=42)\n",
    "\n",
    "# Se aplica la validación cruzada al modelo de regresión logística \n",
    "lr_scores = cross_val_score(lr_model, X_train, y_train, cv=kf)\n",
    "# Imprimimos los resultados de la validación cruzada\n",
    "print(f\"Accuracy LR (CrossVal): {np.mean(lr_scores)*100:.4f}%\")"
   ]
  },
  {
   "cell_type": "code",
   "execution_count": 4,
   "metadata": {},
   "outputs": [
    {
     "name": "stdout",
     "output_type": "stream",
     "text": [
      "Exactitud: 0.58\n",
      "Precisión: 0.58\n",
      "Puntuación F1: 0.57\n"
     ]
    }
   ],
   "source": [
    "predictions = lr_model.predict(X_test)\n",
    "\n",
    "# Calcular la exactitud\n",
    "exactitud = round(accuracy_score(y_test, predictions),2)\n",
    "print(\"Exactitud:\", exactitud)\n",
    "\n",
    "# Calcular la preci sión\n",
    "precision = round(precision_score(y_test, predictions),2)\n",
    "print(\"Precisión:\", precision)\n",
    "\n",
    "# Calcular la puntuación F1\n",
    "f1 = round(f1_score(y_test, predictions),2)\n",
    "print(\"Puntuación F1:\", f1)"
   ]
  }
 ],
 "metadata": {
  "kernelspec": {
   "display_name": "nlp",
   "language": "python",
   "name": "python3"
  },
  "language_info": {
   "codemirror_mode": {
    "name": "ipython",
    "version": 3
   },
   "file_extension": ".py",
   "mimetype": "text/x-python",
   "name": "python",
   "nbconvert_exporter": "python",
   "pygments_lexer": "ipython3",
   "version": "3.10.9"
  },
  "orig_nbformat": 4
 },
 "nbformat": 4,
 "nbformat_minor": 2
}
