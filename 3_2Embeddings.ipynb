{
 "cells": [
  {
   "cell_type": "code",
   "execution_count": 1,
   "metadata": {},
   "outputs": [
    {
     "name": "stderr",
     "output_type": "stream",
     "text": [
      "/home/bruno-rg/anaconda3/envs/nlp/lib/python3.10/site-packages/tqdm/auto.py:22: TqdmWarning: IProgress not found. Please update jupyter and ipywidgets. See https://ipywidgets.readthedocs.io/en/stable/user_install.html\n",
      "  from .autonotebook import tqdm as notebook_tqdm\n"
     ]
    }
   ],
   "source": [
    "# Import libraries\n",
    "import numpy as np \n",
    "import pandas as pd\n",
    "import seaborn as sns\n",
    "import matplotlib.pyplot as plt\n",
    "sns.set_theme(style='darkgrid', palette='hls')\n",
    "\n",
    "import spacy\n",
    "nlp = spacy.load(\"es_core_news_sm\")\n",
    "from gensim.models import Word2Vec"
   ]
  },
  {
   "cell_type": "code",
   "execution_count": 2,
   "metadata": {},
   "outputs": [
    {
     "name": "stdout",
     "output_type": "stream",
     "text": [
      "(6853, 5)\n"
     ]
    },
    {
     "data": {
      "text/html": [
       "<div>\n",
       "<style scoped>\n",
       "    .dataframe tbody tr th:only-of-type {\n",
       "        vertical-align: middle;\n",
       "    }\n",
       "\n",
       "    .dataframe tbody tr th {\n",
       "        vertical-align: top;\n",
       "    }\n",
       "\n",
       "    .dataframe thead th {\n",
       "        text-align: right;\n",
       "    }\n",
       "</style>\n",
       "<table border=\"1\" class=\"dataframe\">\n",
       "  <thead>\n",
       "    <tr style=\"text-align: right;\">\n",
       "      <th></th>\n",
       "      <th>Message</th>\n",
       "      <th>Negatives</th>\n",
       "      <th>Neutrals</th>\n",
       "      <th>Positives</th>\n",
       "      <th>Labels</th>\n",
       "    </tr>\n",
       "  </thead>\n",
       "  <tbody>\n",
       "    <tr>\n",
       "      <th>0</th>\n",
       "      <td>haber ser confuso de momento bien y</td>\n",
       "      <td>0.000</td>\n",
       "      <td>1.000</td>\n",
       "      <td>0.000</td>\n",
       "      <td>0</td>\n",
       "    </tr>\n",
       "    <tr>\n",
       "      <th>1</th>\n",
       "      <td>espero ser disfrutar tu estancia en el grupo c...</td>\n",
       "      <td>0.000</td>\n",
       "      <td>1.000</td>\n",
       "      <td>0.000</td>\n",
       "      <td>0</td>\n",
       "    </tr>\n",
       "    <tr>\n",
       "      <th>2</th>\n",
       "      <td>ser bueno ese hacer cosa nuevo y que ayudar a ...</td>\n",
       "      <td>0.000</td>\n",
       "      <td>1.000</td>\n",
       "      <td>0.000</td>\n",
       "      <td>0</td>\n",
       "    </tr>\n",
       "    <tr>\n",
       "      <th>3</th>\n",
       "      <td>pensar hacer tarea y no yo concentrar</td>\n",
       "      <td>0.306</td>\n",
       "      <td>0.694</td>\n",
       "      <td>0.000</td>\n",
       "      <td>0</td>\n",
       "    </tr>\n",
       "    <tr>\n",
       "      <th>4</th>\n",
       "      <td>yo alguno vez él hacer pero este vez tener el ...</td>\n",
       "      <td>0.103</td>\n",
       "      <td>0.794</td>\n",
       "      <td>0.103</td>\n",
       "      <td>0</td>\n",
       "    </tr>\n",
       "  </tbody>\n",
       "</table>\n",
       "</div>"
      ],
      "text/plain": [
       "                                             Message  Negatives  Neutrals  \\\n",
       "0                haber ser confuso de momento bien y      0.000     1.000   \n",
       "1  espero ser disfrutar tu estancia en el grupo c...      0.000     1.000   \n",
       "2  ser bueno ese hacer cosa nuevo y que ayudar a ...      0.000     1.000   \n",
       "3              pensar hacer tarea y no yo concentrar      0.306     0.694   \n",
       "4  yo alguno vez él hacer pero este vez tener el ...      0.103     0.794   \n",
       "\n",
       "   Positives  Labels  \n",
       "0      0.000       0  \n",
       "1      0.000       0  \n",
       "2      0.000       0  \n",
       "3      0.000       0  \n",
       "4      0.103       0  "
      ]
     },
     "execution_count": 2,
     "metadata": {},
     "output_type": "execute_result"
    }
   ],
   "source": [
    "df = pd.read_csv('./data_processed/task2_depression.csv', index_col=0)\n",
    "print(df.shape)\n",
    "df.head(5)"
   ]
  },
  {
   "attachments": {},
   "cell_type": "markdown",
   "metadata": {},
   "source": [
    "## Creating embbedings "
   ]
  },
  {
   "attachments": {},
   "cell_type": "markdown",
   "metadata": {},
   "source": [
    "### Spacy"
   ]
  },
  {
   "cell_type": "code",
   "execution_count": 3,
   "metadata": {},
   "outputs": [],
   "source": [
    "def embeddings_with_spacy( messages : pd.core.series.Series):\n",
    "    embeddings = []\n",
    "    # Getting the embedding vector for a document\n",
    "    for message in messages.values:\n",
    "        doc = nlp(message)\n",
    "        vector = doc.vector\n",
    "        embeddings.append(vector)\n",
    "\n",
    "    embeddings = np.array(embeddings)\n",
    "\n",
    "    return pd.DataFrame(embeddings)\n",
    "    #df_w2v['Labels'] = df['Labels'].values"
   ]
  },
  {
   "attachments": {},
   "cell_type": "markdown",
   "metadata": {},
   "source": [
    "### Gensim"
   ]
  },
  {
   "cell_type": "code",
   "execution_count": 4,
   "metadata": {},
   "outputs": [],
   "source": [
    "def embeddings_with_gensim( messages : pd.core.series.Series, vector_size : int):\n",
    "\n",
    "    embeddings = []\n",
    "    # Separating the words from every message \n",
    "    sentences = []\n",
    "    for message in messages.values:\n",
    "        sentences.append(message.strip().split(' '))\n",
    "    \n",
    "    # Training a model word2vec\n",
    "    model = Word2Vec(sentences, min_count=1, vector_size = vector_size)\n",
    "    embeddings = []\n",
    "    for sentence in sentences:   \n",
    "        vector = np.zeros(vector_size)\n",
    "        total = 0 \n",
    "\n",
    "        for j in range(len(sentence)):\n",
    "            total += 1\n",
    "            vector += model.wv[sentence[j]] \n",
    "\n",
    "        vector = vector / total\n",
    "        embeddings.append(vector)\n",
    "\n",
    "    embeddings = np.array(embeddings)\n",
    "\n",
    "    return pd.DataFrame(embeddings)"
   ]
  },
  {
   "cell_type": "code",
   "execution_count": 5,
   "metadata": {},
   "outputs": [
    {
     "data": {
      "text/plain": [
       "(6853, 104)"
      ]
     },
     "execution_count": 5,
     "metadata": {},
     "output_type": "execute_result"
    }
   ],
   "source": [
    "df_embeddings = embeddings_with_spacy(df['Message'])\n",
    "\n",
    "#df_embeddings = embeddings_with_gensim(df['Message'] , 96)\n",
    "\n",
    "df_embeddings['Negatives'] = df['Negatives'].values\n",
    "df_embeddings['Neutrals'] = df['Neutrals'].values\n",
    "df_embeddings['Positives'] = df['Positives'].values\n",
    "df_embeddings['Labels'] = df['Labels'].values\n",
    "\n",
    "df_embeddings.shape"
   ]
  },
  {
   "cell_type": "code",
   "execution_count": 6,
   "metadata": {},
   "outputs": [],
   "source": [
    "df_embeddings.to_csv('./data_processed/embeddings_spacy.csv', encoding='utf-8')"
   ]
  }
 ],
 "metadata": {
  "kernelspec": {
   "display_name": "nlp",
   "language": "python",
   "name": "python3"
  },
  "language_info": {
   "codemirror_mode": {
    "name": "ipython",
    "version": 3
   },
   "file_extension": ".py",
   "mimetype": "text/x-python",
   "name": "python",
   "nbconvert_exporter": "python",
   "pygments_lexer": "ipython3",
   "version": "3.10.9"
  },
  "orig_nbformat": 4
 },
 "nbformat": 4,
 "nbformat_minor": 2
}
