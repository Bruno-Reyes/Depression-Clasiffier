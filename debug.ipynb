{
 "cells": [
  {
   "cell_type": "code",
   "execution_count": null,
   "metadata": {},
   "outputs": [],
   "source": [
    "# Taking some data for visualization\n",
    "top = pd.concat([ df[df['Labels'] == 0].head(50), df[df['Labels'] == 1].head(50)])\n",
    "\n",
    "data_to_pca = []\n",
    "\n",
    "for i in top.index:\n",
    "    data_to_pca.append(embeddings[i,:])\n",
    "\n",
    "data_to_pca = np.array(data_to_pca)\n",
    "\n",
    "from sklearn.decomposition import PCA \n",
    "\n",
    "pca = PCA(n_components = 3)\n",
    "transformed = pca.fit_transform(data_to_pca)\n",
    "\n",
    "print(transformed.shape)"
   ]
  },
  {
   "cell_type": "code",
   "execution_count": null,
   "metadata": {},
   "outputs": [],
   "source": [
    "import matplotlib.pyplot as plt\n",
    "from mpl_toolkits.mplot3d import Axes3D\n",
    "\n",
    "colors = ['#5dade2', '#7d3c98']\n",
    "labels = top['Labels'].values\n",
    "# Crear una figura 3D\n",
    "fig = plt.figure()\n",
    "ax = fig.add_subplot(111, projection='3d')\n",
    "\n",
    "# Plotear los puntos en 3D\n",
    "for i in range(transformed.shape[0]):\n",
    "    if labels[i] == 0:\n",
    "        ax.scatter(transformed[i,0], transformed[i,1], transformed[i,2], color=colors[0])\n",
    "    elif labels[i]:\n",
    "        ax.scatter(transformed[i,0], transformed[i,1], transformed[i,2], color=colors[1])\n",
    "\n",
    "# Configurar las etiquetas de los ejes\n",
    "ax.set_xlabel('X Label')\n",
    "ax.set_ylabel('Y Label')\n",
    "ax.set_zlabel('Z Label')\n",
    "\n",
    "# Mostrar el gráfico\n",
    "plt.show()"
   ]
  }
 ],
 "metadata": {
  "kernelspec": {
   "display_name": "nlp",
   "language": "python",
   "name": "python3"
  },
  "language_info": {
   "codemirror_mode": {
    "name": "ipython",
    "version": 3
   },
   "file_extension": ".py",
   "mimetype": "text/x-python",
   "name": "python",
   "nbconvert_exporter": "python",
   "pygments_lexer": "ipython3",
   "version": "3.10.9"
  },
  "orig_nbformat": 4
 },
 "nbformat": 4,
 "nbformat_minor": 2
}
