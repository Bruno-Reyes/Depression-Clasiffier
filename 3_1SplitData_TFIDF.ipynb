{
 "cells": [
  {
   "cell_type": "code",
   "execution_count": 1,
   "metadata": {},
   "outputs": [],
   "source": [
    "# Importamos librerias.\n",
    "import pandas as pd\n",
    "import numpy as np\n",
    "from sklearn.model_selection import train_test_split\n",
    "from matplotlib import pyplot as plt\n",
    "import seaborn as sns\n",
    "from sklearn.feature_extraction.text import TfidfVectorizer\n",
    "from sklearn.feature_extraction.text import CountVectorizer"
   ]
  },
  {
   "cell_type": "code",
   "execution_count": 2,
   "metadata": {},
   "outputs": [
    {
     "data": {
      "text/html": [
       "<div>\n",
       "<style scoped>\n",
       "    .dataframe tbody tr th:only-of-type {\n",
       "        vertical-align: middle;\n",
       "    }\n",
       "\n",
       "    .dataframe tbody tr th {\n",
       "        vertical-align: top;\n",
       "    }\n",
       "\n",
       "    .dataframe thead th {\n",
       "        text-align: right;\n",
       "    }\n",
       "</style>\n",
       "<table border=\"1\" class=\"dataframe\">\n",
       "  <thead>\n",
       "    <tr style=\"text-align: right;\">\n",
       "      <th></th>\n",
       "      <th>Message</th>\n",
       "      <th>Negatives</th>\n",
       "      <th>Neutrals</th>\n",
       "      <th>Positives</th>\n",
       "      <th>Labels</th>\n",
       "    </tr>\n",
       "  </thead>\n",
       "  <tbody>\n",
       "    <tr>\n",
       "      <th>0</th>\n",
       "      <td>haber ser confuso de momento bien y</td>\n",
       "      <td>0.000</td>\n",
       "      <td>1.000</td>\n",
       "      <td>0.000</td>\n",
       "      <td>0</td>\n",
       "    </tr>\n",
       "    <tr>\n",
       "      <th>1</th>\n",
       "      <td>espero ser disfrutar tu estancia en el grupo c...</td>\n",
       "      <td>0.000</td>\n",
       "      <td>1.000</td>\n",
       "      <td>0.000</td>\n",
       "      <td>0</td>\n",
       "    </tr>\n",
       "    <tr>\n",
       "      <th>2</th>\n",
       "      <td>ser bueno ese hacer cosa nuevo y que ayudar a ...</td>\n",
       "      <td>0.000</td>\n",
       "      <td>1.000</td>\n",
       "      <td>0.000</td>\n",
       "      <td>0</td>\n",
       "    </tr>\n",
       "    <tr>\n",
       "      <th>3</th>\n",
       "      <td>pensar hacer tarea y no yo concentrar</td>\n",
       "      <td>0.306</td>\n",
       "      <td>0.694</td>\n",
       "      <td>0.000</td>\n",
       "      <td>0</td>\n",
       "    </tr>\n",
       "    <tr>\n",
       "      <th>4</th>\n",
       "      <td>yo alguno vez él hacer pero este vez tener el ...</td>\n",
       "      <td>0.103</td>\n",
       "      <td>0.794</td>\n",
       "      <td>0.103</td>\n",
       "      <td>0</td>\n",
       "    </tr>\n",
       "  </tbody>\n",
       "</table>\n",
       "</div>"
      ],
      "text/plain": [
       "                                             Message  Negatives  Neutrals  \\\n",
       "0                haber ser confuso de momento bien y      0.000     1.000   \n",
       "1  espero ser disfrutar tu estancia en el grupo c...      0.000     1.000   \n",
       "2  ser bueno ese hacer cosa nuevo y que ayudar a ...      0.000     1.000   \n",
       "3              pensar hacer tarea y no yo concentrar      0.306     0.694   \n",
       "4  yo alguno vez él hacer pero este vez tener el ...      0.103     0.794   \n",
       "\n",
       "   Positives  Labels  \n",
       "0      0.000       0  \n",
       "1      0.000       0  \n",
       "2      0.000       0  \n",
       "3      0.000       0  \n",
       "4      0.103       0  "
      ]
     },
     "execution_count": 2,
     "metadata": {},
     "output_type": "execute_result"
    }
   ],
   "source": [
    "# Cargamos el dataset y lo dividimos en conjunto de entrenamiento y prueba.\n",
    "df = pd.read_csv(\"./data_processed/task2_depression.csv\", index_col=0, encoding='utf-8')\n",
    "df.head(5)"
   ]
  },
  {
   "cell_type": "code",
   "execution_count": 3,
   "metadata": {},
   "outputs": [
    {
     "data": {
      "text/plain": [
       "Text(0.5, 1.0, 'Prueba')"
      ]
     },
     "execution_count": 3,
     "metadata": {},
     "output_type": "execute_result"
    },
    {
     "data": {
      "image/png": "[encoded data removed]",
      "text/plain": [
       "<Figure size 900x400 with 2 Axes>"
      ]
     },
     "metadata": {},
     "output_type": "display_data"
    }
   ],
   "source": [
    "X = df[[\"Message\", \"Negatives\",\"Neutrals\", \"Positives\"]]\n",
    "y = df[\"Labels\"]\n",
    "\n",
    "X_train, X_test, y_train, y_test = train_test_split(X, y, test_size=0.2, random_state=10)\n",
    "\n",
    "# Crea una matriz de subplots de 2x2\n",
    "fig, axs = plt.subplots(ncols=2, nrows=1, figsize=(9, 4))\n",
    "\n",
    "# Subplot 1\n",
    "sns.countplot(x=y_train, ax=axs[0])\n",
    "axs[0].set_title(\"Entrenamiento\")\n",
    "\n",
    "# Subplot 2\n",
    "sns.countplot(x=y_test, ax=axs[1])\n",
    "axs[1].set_title(\"Prueba\")\n"
   ]
  },
  {
   "cell_type": "code",
   "execution_count": 4,
   "metadata": {},
   "outputs": [],
   "source": [
    "# Creamos el vectorizador y lo usamos para ajustarlo a nuestros datos.\n",
    "vectorizer = TfidfVectorizer()\n",
    "#vectorizer = CountVectorizer()\n",
    "# vectorizer = CountVectorizer(binary=False)\n",
    "vectors_train = vectorizer.fit_transform(X_train['Message'])\n",
    "vectors_test = vectorizer.transform(X_test['Message'])\n",
    "\n",
    "df_vectors_train = pd.DataFrame(vectors_train.toarray())\n",
    "df_polarity_train = pd.DataFrame(X_train[[\"Negatives\",\"Neutrals\", \"Positives\"]])\n",
    "\n",
    "df_vectors_test = pd.DataFrame(vectors_test.toarray())\n",
    "df_polarity_test = pd.DataFrame(X_test[[\"Negatives\",\"Neutrals\", \"Positives\"]])\n",
    "\n",
    "df_vectors_train.to_csv('./data_processed/vectors_train.csv', index=False)\n",
    "df_polarity_train.to_csv('./data_processed/polarity_train.csv', index=False)\n",
    "\n",
    "df_vectors_test.to_csv('./data_processed/vectors_test.csv', index=False)\n",
    "df_polarity_test.to_csv('./data_processed/polarity_test.csv', index=False)"
   ]
  },
  {
   "cell_type": "code",
   "execution_count": 5,
   "metadata": {},
   "outputs": [],
   "source": [
    "df_vectors_train = pd.read_csv(\"./data_processed/vectors_train.csv\", index_col=None, encoding='utf-8')\n",
    "df_polarity_train = pd.read_csv(\"./data_processed/polarity_train.csv\", index_col=None, encoding='utf-8')\n",
    "\n",
    "df_vectors_test = pd.read_csv(\"./data_processed/vectors_test.csv\", index_col=None, encoding='utf-8')\n",
    "df_polarity_test = pd.read_csv(\"./data_processed/polarity_test.csv\", index_col=None, encoding='utf-8')"
   ]
  },
  {
   "cell_type": "code",
   "execution_count": 6,
   "metadata": {},
   "outputs": [],
   "source": [
    "X_train = pd.concat([df_vectors_train, df_polarity_train], axis=1)\n",
    "\n",
    "X_test = pd.concat([df_vectors_test, df_polarity_test], axis=1)"
   ]
  },
  {
   "cell_type": "code",
   "execution_count": 7,
   "metadata": {},
   "outputs": [
    {
     "name": "stdout",
     "output_type": "stream",
     "text": [
      "Datos de entrenamiento:\n",
      "(5482, 6358)\n",
      "(5482,)\n",
      "Datos de prueba:\n",
      "(1371, 6358)\n",
      "(1371,)\n"
     ]
    }
   ],
   "source": [
    "X_train.to_csv('./data_processed/X_train.csv',index=False, encoding='utf-8')\n",
    "X_test.to_csv('./data_processed/X_test.csv',index=False, encoding='utf-8')\n",
    "y_train.to_csv('./data_processed/y_train.csv',index=False, encoding='utf-8')\n",
    "y_test.to_csv('./data_processed/y_test.csv',index=False, encoding='utf-8')\n",
    "\n",
    "print('Datos de entrenamiento:')\n",
    "print(X_train.shape)\n",
    "print(y_train.shape)\n",
    "print('Datos de prueba:')\n",
    "print(X_test.shape)\n",
    "print(y_test.shape)"
   ]
  }
 ],
 "metadata": {
  "kernelspec": {
   "display_name": "nlp",
   "language": "python",
   "name": "python3"
  },
  "language_info": {
   "codemirror_mode": {
    "name": "ipython",
    "version": 3
   },
   "file_extension": ".py",
   "mimetype": "text/x-python",
   "name": "python",
   "nbconvert_exporter": "python",
   "pygments_lexer": "ipython3",
   "version": "3.10.9"
  },
  "orig_nbformat": 4
 },
 "nbformat": 4,
 "nbformat_minor": 2
}
