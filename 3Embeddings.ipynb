{
 "cells": [
  {
   "cell_type": "code",
   "execution_count": 1,
   "metadata": {},
   "outputs": [],
   "source": [
    "import pandas as pd\n",
    "import numpy as np\n",
    "import seaborn as sns\n",
    "import matplotlib.pyplot as plt\n",
    "sns.set_theme(style='darkgrid', palette='hls')"
   ]
  },
  {
   "cell_type": "code",
   "execution_count": 2,
   "metadata": {},
   "outputs": [
    {
     "name": "stdout",
     "output_type": "stream",
     "text": [
      "(6850, 2)\n"
     ]
    },
    {
     "data": {
      "text/html": [
       "<div>\n",
       "<style scoped>\n",
       "    .dataframe tbody tr th:only-of-type {\n",
       "        vertical-align: middle;\n",
       "    }\n",
       "\n",
       "    .dataframe tbody tr th {\n",
       "        vertical-align: top;\n",
       "    }\n",
       "\n",
       "    .dataframe thead th {\n",
       "        text-align: right;\n",
       "    }\n",
       "</style>\n",
       "<table border=\"1\" class=\"dataframe\">\n",
       "  <thead>\n",
       "    <tr style=\"text-align: right;\">\n",
       "      <th></th>\n",
       "      <th>Message</th>\n",
       "      <th>Labels</th>\n",
       "    </tr>\n",
       "  </thead>\n",
       "  <tbody>\n",
       "    <tr>\n",
       "      <th>0</th>\n",
       "      <td>haber ser confuso momento bien y</td>\n",
       "      <td>0</td>\n",
       "    </tr>\n",
       "    <tr>\n",
       "      <th>1</th>\n",
       "      <td>esperar ser disfrutar estancia grupo cara sonr...</td>\n",
       "      <td>0</td>\n",
       "    </tr>\n",
       "    <tr>\n",
       "      <th>2</th>\n",
       "      <td>ser bueno ese hacer cosa nuevo y que ayudar se...</td>\n",
       "      <td>0</td>\n",
       "    </tr>\n",
       "    <tr>\n",
       "      <th>3</th>\n",
       "      <td>pensar hacer tarea y no yo concentrar</td>\n",
       "      <td>0</td>\n",
       "    </tr>\n",
       "    <tr>\n",
       "      <th>4</th>\n",
       "      <td>yo vez él hacer pero vez tener mente mucho car...</td>\n",
       "      <td>0</td>\n",
       "    </tr>\n",
       "  </tbody>\n",
       "</table>\n",
       "</div>"
      ],
      "text/plain": [
       "                                             Message  Labels\n",
       "0                   haber ser confuso momento bien y       0\n",
       "1  esperar ser disfrutar estancia grupo cara sonr...       0\n",
       "2  ser bueno ese hacer cosa nuevo y que ayudar se...       0\n",
       "3              pensar hacer tarea y no yo concentrar       0\n",
       "4  yo vez él hacer pero vez tener mente mucho car...       0"
      ]
     },
     "execution_count": 2,
     "metadata": {},
     "output_type": "execute_result"
    }
   ],
   "source": [
    "df = pd.read_csv('./train_data.csv', index_col=0)\n",
    "print(df.shape)\n",
    "df.head(5)"
   ]
  },
  {
   "cell_type": "code",
   "execution_count": null,
   "metadata": {},
   "outputs": [],
   "source": [
    "sns.countplot(x=df['Labels'])"
   ]
  },
  {
   "attachments": {},
   "cell_type": "markdown",
   "metadata": {},
   "source": [
    "# Haremos uso de diferentes modelos que generan embbedings para diversificar e intentar mejorar nuestros resultados\n",
    "\n",
    "## Embeddings usando Spacy "
   ]
  },
  {
   "cell_type": "code",
   "execution_count": null,
   "metadata": {},
   "outputs": [],
   "source": [
    "import spacy\n",
    "nlp = spacy.load(\"es_core_news_sm\")\n",
    "\n",
    "embeddings = []\n",
    "# Getting the embedding vector for a document\n",
    "for i in range(df.shape[0]):\n",
    "    doc = nlp(df['Message'][i])\n",
    "    vector = doc.vector\n",
    "    embeddings.append(vector)\n",
    "embeddings = np.array(embeddings)\n",
    "\n",
    "df_w2v = pd.DataFrame(embeddings)\n",
    "df_w2v['Labels'] = df['Labels'].values\n",
    "\n",
    "df_w2v.to_csv('./EmbeddingsSpacy.csv', encoding='utf-8')"
   ]
  },
  {
   "attachments": {},
   "cell_type": "markdown",
   "metadata": {},
   "source": [
    "## Embeddings usando Gensim"
   ]
  },
  {
   "cell_type": "code",
   "execution_count": 5,
   "metadata": {},
   "outputs": [],
   "source": [
    "from gensim.models import Word2Vec\n",
    "vs = 25\n",
    "sentences = []\n",
    "for i in range(df['Message'].shape[0]):\n",
    "    sentences.append(df['Message'][i].split(' '))\n",
    "\n",
    "# Entrenamiento de un modelo word2vec\n",
    "model = Word2Vec(sentences, min_count=1, vector_size = vs)\n",
    "embeddings = []\n",
    "for i in range(len(sentences)):\n",
    "    vector = np.zeros(vs)\n",
    "    total = int(len(sentences[i]))\n",
    "    for j in range(len(sentences[i])):\n",
    "        vector += model.wv[sentences[i][j]] \n",
    "    vector = vector / total\n",
    "    embeddings.append(vector)\n",
    "\n",
    "embeddings = np.array(embeddings)\n",
    "\n",
    "df_w2vGensim = pd.DataFrame(embeddings)\n",
    "df_w2vGensim['Labels'] = df['Labels'].values\n",
    "df_w2vGensim.to_csv('./EmbeddingsGensim.csv', encoding='utf-8')"
   ]
  }
 ],
 "metadata": {
  "kernelspec": {
   "display_name": "nlp",
   "language": "python",
   "name": "python3"
  },
  "language_info": {
   "codemirror_mode": {
    "name": "ipython",
    "version": 3
   },
   "file_extension": ".py",
   "mimetype": "text/x-python",
   "name": "python",
   "nbconvert_exporter": "python",
   "pygments_lexer": "ipython3",
   "version": "3.10.9"
  },
  "orig_nbformat": 4
 },
 "nbformat": 4,
 "nbformat_minor": 2
}
