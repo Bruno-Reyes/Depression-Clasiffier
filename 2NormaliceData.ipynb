{
  "cells": [
    {
      "attachments": {},
      "cell_type": "markdown",
      "metadata": {
        "id": "HpxGaUKXkFNI"
      },
      "source": [
        "# Normalizing data\n",
        "\n",
        "### Importing libraries"
      ]
    },
    {
      "cell_type": "code",
      "execution_count": 1,
      "metadata": {
        "id": "3hcl0x7HkFOP"
      },
      "outputs": [
        {
          "name": "stderr",
          "output_type": "stream",
          "text": [
            "/home/bruno-rg/anaconda3/envs/nlp/lib/python3.10/site-packages/tqdm/auto.py:22: TqdmWarning: IProgress not found. Please update jupyter and ipywidgets. See https://ipywidgets.readthedocs.io/en/stable/user_install.html\n",
            "  from .autonotebook import tqdm as notebook_tqdm\n"
          ]
        }
      ],
      "source": [
        "import pandas as pd\n",
        "import os \n",
        "import json \n",
        "import spacy\n",
        "import re\n",
        "nlp = spacy.load(\"es_core_news_sm\")\n",
        "import nltk\n",
        "from nltk.sentiment import SentimentIntensityAnalyzer"
      ]
    },
    {
      "cell_type": "code",
      "execution_count": 2,
      "metadata": {},
      "outputs": [
        {
          "name": "stderr",
          "output_type": "stream",
          "text": [
            "[nltk_data] Downloading package vader_lexicon to /home/bruno-\n",
            "[nltk_data]     rg/nltk_data...\n",
            "[nltk_data]   Package vader_lexicon is already up-to-date!\n"
          ]
        },
        {
          "data": {
            "text/plain": [
              "True"
            ]
          },
          "execution_count": 2,
          "metadata": {},
          "output_type": "execute_result"
        }
      ],
      "source": [
        "nltk.download('vader_lexicon')"
      ]
    },
    {
      "attachments": {},
      "cell_type": "markdown",
      "metadata": {
        "id": "cvyCYM9AkFOj"
      },
      "source": [
        "### Normalize function"
      ]
    },
    {
      "cell_type": "code",
      "execution_count": 3,
      "metadata": {
        "id": "WcLTYhH2kFOm"
      },
      "outputs": [],
      "source": [
        "# Función que normaliza el texto, según una lista de etiquetas dada. \n",
        "reGex = r\"^[a-zA-Z]+$\"\n",
        "def normalize(text:str): \n",
        "    tags =  ('PUNCT')\n",
        "    normalized_text = []\n",
        "    doc = nlp(text)\n",
        "    for token in doc:\n",
        "            # Se verifica que el token no sea alguna etiqueta dada. \n",
        "            if token.tag_ not in tags: \n",
        "                if re.match(reGex, token.text):\n",
        "                    normalized_text.append(token.lemma_)\n",
        "    # Se regresa el texto normalizado\n",
        "    _text = \"\"\n",
        "    for word in normalized_text:\n",
        "        _text += word + \" \"\n",
        "    return _text\n",
        "\n",
        "# ADP : adposition = preposicion\n",
        "# CONJ : coordinating conjunction = conjuncion coordinante\n",
        "# SCONJ :  subordinating conjunction = conjuncion subordinante\n",
        "# PROP : pronoun = pronombre\n",
        "# DET : determiner = articulo\n",
        "\n",
        "def analyzer(text:str):\n",
        "    analyzer = SentimentIntensityAnalyzer()\n",
        "    scores = analyzer.polarity_scores(text)\n",
        "    return scores"
      ]
    },
    {
      "attachments": {},
      "cell_type": "markdown",
      "metadata": {
        "id": "29Ho8J4UkFOx"
      },
      "source": [
        "### Extract data and normalice"
      ]
    },
    {
      "cell_type": "code",
      "execution_count": 4,
      "metadata": {
        "id": "H4JI6p2DkFOz"
      },
      "outputs": [],
      "source": [
        "# Extracting data and cleaning\n",
        "def extract_and_clean(path:str, path_labels:str):\n",
        "    directory = os.listdir(path)\n",
        "\n",
        "    # Creating the dataframe for labels\n",
        "    df_labels = pd.read_csv(path_labels, sep=',', header=0)\n",
        "\n",
        "    # Creating the dataframe for data \n",
        "    messages = []\n",
        "    labels = []\n",
        "    negatives = []\n",
        "    neutrals = []\n",
        "    positives = []\n",
        "\n",
        "    for name_file in directory:\n",
        "        # Getting the index using the username\n",
        "        index = df_labels.index[df_labels.loc[:, 'Subject'] == str(name_file.split('.')[0])][0]\n",
        "        # To get the respective label\n",
        "        label = df_labels.loc[index,:][\"label\"]\n",
        "\n",
        "        # Opening JSON file\n",
        "        with open(path+name_file) as json_file:\n",
        "            data = json.load(json_file)\n",
        "            for item in data: \n",
        "                text_norm = normalize(item['message']).strip()\n",
        "                if len(text_norm) != 0:\n",
        "                    scores = analyzer(item['message'])\n",
        "                    messages.append(text_norm.lower())\n",
        "                    labels.append(label)\n",
        "                    negatives.append(scores['neg'])\n",
        "                    neutrals.append(scores['neu'])\n",
        "                    positives.append(scores['pos'])\n",
        "                    \n",
        "    return ( messages , labels , negatives, neutrals, positives)"
      ]
    },
    {
      "attachments": {},
      "cell_type": "markdown",
      "metadata": {
        "id": "2L0Vbk-8kFO2"
      },
      "source": [
        "### Calling functions"
      ]
    },
    {
      "cell_type": "code",
      "execution_count": 5,
      "metadata": {
        "id": "ECWqJb62kFO3"
      },
      "outputs": [],
      "source": [
        "# Directory of trial\n",
        "path_dir_trial = './data/task2/trial/subjects_trial/'\n",
        "# File with labels for trial\n",
        "path_labels_trial = './data/task2/trial/gold_trial_task2a.csv'\n",
        "\n",
        "# Directory of train\n",
        "path_dir_train = './data/task2/trial/subjects_train/'\n",
        "# File with labels for train\n",
        "path_labels_train = './data/task2/trial/gold_train_task2a.csv'\n",
        "\n",
        "\n",
        "messages_trail, labels_trial, negatives_trial, neutrals_trial, positives_trial = extract_and_clean(path_dir_trial, path_labels_trial)\n",
        "messages_train, labels_train, negatives_train, neutrals_train, positives_train = extract_and_clean(path_dir_train, path_labels_train)"
      ]
    },
    {
      "cell_type": "code",
      "execution_count": 7,
      "metadata": {
        "id": "lVOW-PxWkFPF"
      },
      "outputs": [],
      "source": [
        "messages_df = messages_trail + messages_train\n",
        "labels_df = labels_trial + labels_train\n",
        "negatives_df = negatives_trial + negatives_train\n",
        "neutrals_df = neutrals_trial + neutrals_train\n",
        "positives_df = positives_trial + positives_train\n",
        "\n",
        "# Final dataframe cleaned\n",
        "df = pd.DataFrame()\n",
        "df['Message'] = messages_df\n",
        "df['Negatives'] = negatives_df\n",
        "df['Neutrals'] = neutrals_df\n",
        "df['Positives'] = positives_df\n",
        "df['Labels'] = labels_df\n",
        "\n",
        "# Saving the dataframe to a csv file\n",
        "df.to_csv('./data_processed/task2_depression.csv', encoding='utf-8')"
      ]
    },
    {
      "cell_type": "code",
      "execution_count": null,
      "metadata": {},
      "outputs": [
        {
          "data": {
            "text/html": [
              "<div>\n",
              "<style scoped>\n",
              "    .dataframe tbody tr th:only-of-type {\n",
              "        vertical-align: middle;\n",
              "    }\n",
              "\n",
              "    .dataframe tbody tr th {\n",
              "        vertical-align: top;\n",
              "    }\n",
              "\n",
              "    .dataframe thead th {\n",
              "        text-align: right;\n",
              "    }\n",
              "</style>\n",
              "<table border=\"1\" class=\"dataframe\">\n",
              "  <thead>\n",
              "    <tr style=\"text-align: right;\">\n",
              "      <th></th>\n",
              "      <th>Message</th>\n",
              "      <th>Negatives</th>\n",
              "      <th>Neutrals</th>\n",
              "      <th>Positives</th>\n",
              "      <th>Labels</th>\n",
              "    </tr>\n",
              "  </thead>\n",
              "  <tbody>\n",
              "    <tr>\n",
              "      <th>0</th>\n",
              "      <td>haber ser confuso de momento bien y</td>\n",
              "      <td>0.000</td>\n",
              "      <td>1.000</td>\n",
              "      <td>0.000</td>\n",
              "      <td>0</td>\n",
              "    </tr>\n",
              "    <tr>\n",
              "      <th>1</th>\n",
              "      <td>espero ser disfrutar tu estancia en el grupo c...</td>\n",
              "      <td>0.000</td>\n",
              "      <td>1.000</td>\n",
              "      <td>0.000</td>\n",
              "      <td>0</td>\n",
              "    </tr>\n",
              "    <tr>\n",
              "      <th>2</th>\n",
              "      <td>ser bueno ese hacer cosa nuevo y que ayudar a ...</td>\n",
              "      <td>0.000</td>\n",
              "      <td>1.000</td>\n",
              "      <td>0.000</td>\n",
              "      <td>0</td>\n",
              "    </tr>\n",
              "    <tr>\n",
              "      <th>3</th>\n",
              "      <td>pensar hacer tarea y no yo concentrar</td>\n",
              "      <td>0.306</td>\n",
              "      <td>0.694</td>\n",
              "      <td>0.000</td>\n",
              "      <td>0</td>\n",
              "    </tr>\n",
              "    <tr>\n",
              "      <th>4</th>\n",
              "      <td>yo alguno vez él hacer pero este vez tener el ...</td>\n",
              "      <td>0.103</td>\n",
              "      <td>0.794</td>\n",
              "      <td>0.103</td>\n",
              "      <td>0</td>\n",
              "    </tr>\n",
              "  </tbody>\n",
              "</table>\n",
              "</div>"
            ],
            "text/plain": [
              "                                             Message  Negatives  Neutrals  \\\n",
              "0                haber ser confuso de momento bien y      0.000     1.000   \n",
              "1  espero ser disfrutar tu estancia en el grupo c...      0.000     1.000   \n",
              "2  ser bueno ese hacer cosa nuevo y que ayudar a ...      0.000     1.000   \n",
              "3              pensar hacer tarea y no yo concentrar      0.306     0.694   \n",
              "4  yo alguno vez él hacer pero este vez tener el ...      0.103     0.794   \n",
              "\n",
              "   Positives  Labels  \n",
              "0      0.000       0  \n",
              "1      0.000       0  \n",
              "2      0.000       0  \n",
              "3      0.000       0  \n",
              "4      0.103       0  "
            ]
          },
          "execution_count": 7,
          "metadata": {},
          "output_type": "execute_result"
        }
      ],
      "source": [
        "df.head(5)"
      ]
    }
  ],
  "metadata": {
    "colab": {
      "provenance": []
    },
    "kernelspec": {
      "display_name": "nlp",
      "language": "python",
      "name": "python3"
    },
    "language_info": {
      "codemirror_mode": {
        "name": "ipython",
        "version": 3
      },
      "file_extension": ".py",
      "mimetype": "text/x-python",
      "name": "python",
      "nbconvert_exporter": "python",
      "pygments_lexer": "ipython3",
      "version": "3.10.9"
    },
    "orig_nbformat": 4
  },
  "nbformat": 4,
  "nbformat_minor": 0
}
