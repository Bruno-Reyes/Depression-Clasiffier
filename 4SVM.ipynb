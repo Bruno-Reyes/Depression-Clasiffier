{
  "cells": [
    {
      "cell_type": "code",
      "execution_count": 1,
      "metadata": {
        "colab": {
          "base_uri": "https://localhost:8080/",
          "height": 363
        },
        "id": "VqyacI8UV-aP",
        "outputId": "4630c454-bff5-40b7-d901-7b9ca8d80fd0"
      },
      "outputs": [],
      "source": [
        "import pandas as pd\n",
        "from sklearn.svm import SVC, LinearSVC\n",
        "from sklearn.metrics import accuracy_score, f1_score"
      ]
    },
    {
      "cell_type": "code",
      "execution_count": 2,
      "metadata": {
        "id": "lxppWsh6VjGj"
      },
      "outputs": [],
      "source": [
        "X_train = pd.read_csv(\"./data_processed/X_train.csv\", index_col=None, encoding='utf-8')\n",
        "y_train = pd.read_csv(\"./data_processed/y_train.csv\", index_col=None, encoding='utf-8')\n",
        "\n",
        "X_test = pd.read_csv(\"./data_processed/X_test.csv\", index_col=None, encoding='utf-8')\n",
        "y_test = pd.read_csv(\"./data_processed/y_test.csv\", index_col=None, encoding='utf-8')\n"
      ]
    },
    {
      "cell_type": "code",
      "execution_count": 3,
      "metadata": {
        "colab": {
          "base_uri": "https://localhost:8080/"
        },
        "id": "zv6YRf57VaCS",
        "outputId": "edeb8b12-942f-4df7-e6f3-9d62cde6256c"
      },
      "outputs": [
        {
          "name": "stdout",
          "output_type": "stream",
          "text": [
            "SVM con kernel lineal - Precisión de la clasificación: 58.64332603938731 F1-score: 58.63606336659999\n",
            "SVM con kernel RBF - Precisión de la clasificación: 58.27862873814734 F1-score: 58.1235167851976\n",
            "SVM lineal - Precisión de la clasificación: 57.695113056163386 F1-score: 57.6937626243642\n"
          ]
        }
      ],
      "source": [
        "y_train = y_train.values.ravel()\n",
        "y_test = y_test.values.ravel()\n",
        "\n",
        "# SVM con kernel lineal\n",
        "clf_linear = SVC(kernel='linear')\n",
        "clf_linear.fit(X_train, y_train)\n",
        "y_pred_linear = clf_linear.predict(X_test)\n",
        "accuracy_linear = accuracy_score(y_test, y_pred_linear)\n",
        "f1_linear = f1_score(y_test, y_pred_linear, average='weighted')\n",
        "\n",
        "# SVM con kernel RBF\n",
        "clf_rbf = SVC(kernel='rbf')\n",
        "clf_rbf.fit(X_train, y_train)\n",
        "y_pred_rbf = clf_rbf.predict(X_test)\n",
        "accuracy_rbf = accuracy_score(y_test, y_pred_rbf)\n",
        "f1_rbf = f1_score(y_test, y_pred_rbf, average='weighted')\n",
        "\n",
        "# SVM lineal\n",
        "clf_linear_svc = LinearSVC()\n",
        "clf_linear_svc.fit(X_train, y_train)\n",
        "y_pred_linear_svc = clf_linear_svc.predict(X_test)\n",
        "accuracy_linear_svc = accuracy_score(y_test, y_pred_linear_svc)\n",
        "f1_linear_svc = f1_score(y_test, y_pred_linear_svc, average='weighted')\n",
        "\n",
        "# Imprimir resultados\n",
        "print('SVM con kernel lineal - Precisión de la clasificación:', accuracy_linear*100, 'F1-score:', f1_linear*100)\n",
        "print('SVM con kernel RBF - Precisión de la clasificación:', accuracy_rbf*100, 'F1-score:', f1_rbf*100)\n",
        "print('SVM lineal - Precisión de la clasificación:', accuracy_linear_svc*100, 'F1-score:', f1_linear_svc*100)   "
      ]
    }
  ],
  "metadata": {
    "colab": {
      "provenance": []
    },
    "kernelspec": {
      "display_name": "Python 3",
      "name": "python3"
    },
    "language_info": {
      "codemirror_mode": {
        "name": "ipython",
        "version": 3
      },
      "file_extension": ".py",
      "mimetype": "text/x-python",
      "name": "python",
      "nbconvert_exporter": "python",
      "pygments_lexer": "ipython3",
      "version": "3.10.9"
    }
  },
  "nbformat": 4,
  "nbformat_minor": 0
}
