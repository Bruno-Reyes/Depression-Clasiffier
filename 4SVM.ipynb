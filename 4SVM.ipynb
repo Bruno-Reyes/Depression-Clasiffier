{
  "cells": [
    {
      "cell_type": "code",
      "execution_count": 1,
      "metadata": {
        "colab": {
          "base_uri": "https://localhost:8080/",
          "height": 363
        },
        "id": "VqyacI8UV-aP",
        "outputId": "4630c454-bff5-40b7-d901-7b9ca8d80fd0"
      },
      "outputs": [],
      "source": [
        "import pandas as pd\n",
        "from sklearn.svm import SVC, LinearSVC\n",
        "from sklearn.metrics import accuracy_score, f1_score , precision_score, recall_score"
      ]
    },
    {
      "cell_type": "code",
      "execution_count": 2,
      "metadata": {
        "id": "lxppWsh6VjGj"
      },
      "outputs": [],
      "source": [
        "X_train = pd.read_csv(\"./data_processed/X_train.csv\", index_col=None, encoding='utf-8')\n",
        "y_train = pd.read_csv(\"./data_processed/y_train.csv\", index_col=None, encoding='utf-8')\n",
        "\n",
        "X_test = pd.read_csv(\"./data_processed/X_test.csv\", index_col=None, encoding='utf-8')\n",
        "y_test = pd.read_csv(\"./data_processed/y_test.csv\", index_col=None, encoding='utf-8')\n"
      ]
    },
    {
      "cell_type": "code",
      "execution_count": 3,
      "metadata": {
        "colab": {
          "base_uri": "https://localhost:8080/"
        },
        "id": "zv6YRf57VaCS",
        "outputId": "edeb8b12-942f-4df7-e6f3-9d62cde6256c"
      },
      "outputs": [],
      "source": [
        "y_train = y_train.values.ravel()\n",
        "y_test = y_test.values.ravel()\n",
        "\n",
        "modelName = []\n",
        "accuracy = []\n",
        "precision = []\n",
        "f1 = []\n",
        "recall = []\n",
        "\n",
        "# SVM con kernel lineal\n",
        "clf_linear = SVC(kernel='linear')\n",
        "clf_linear.fit(X_train, y_train)\n",
        "y_pred_linear = clf_linear.predict(X_test)\n",
        "\n",
        "modelName.append('SVM lineal')\n",
        "accuracy.append(round(accuracy_score(y_test, y_pred_linear),2))\n",
        "precision.append(round(precision_score(y_test, y_pred_linear),2))\n",
        "f1.append(round(f1_score(y_test, y_pred_linear),2))\n",
        "recall.append(round(recall_score(y_test, y_pred_linear),2))\n",
        "\n",
        "# SVM con kernel polinomial\n",
        "clf_poly = SVC(kernel='poly')\n",
        "clf_poly.fit(X_train, y_train)\n",
        "y_pred_poly = clf_poly.predict(X_test)\n",
        "\n",
        "modelName.append('SVM Polinomial')\n",
        "accuracy.append(round(accuracy_score(y_test, y_pred_poly),2))\n",
        "precision.append(round(precision_score(y_test, y_pred_poly),2))\n",
        "f1.append(round(f1_score(y_test, y_pred_poly),2))\n",
        "recall.append(round(recall_score(y_test, y_pred_poly),2))\n",
        "\n",
        "# SVM con kernel RBF\n",
        "clf_rbf = SVC(kernel='rbf')\n",
        "clf_rbf.fit(X_train, y_train)\n",
        "y_pred_rbf = clf_rbf.predict(X_test)\n",
        "\n",
        "modelName.append('SVM RBF')\n",
        "accuracy.append(round(accuracy_score(y_test, y_pred_rbf),2))\n",
        "precision.append(round(precision_score(y_test, y_pred_rbf),2))\n",
        "f1.append(round(f1_score(y_test, y_pred_rbf),2))\n",
        "recall.append(round(recall_score(y_test, y_pred_rbf),2))\n",
        "\n",
        "# SVM con kernel sigmoidal\n",
        "clf_sigmoid = SVC(kernel='sigmoid')\n",
        "clf_sigmoid.fit(X_train, y_train)\n",
        "y_pred_sigmoid = clf_sigmoid.predict(X_test)\n",
        "\n",
        "modelName.append('SVM Sigmoidal')\n",
        "accuracy.append(round(accuracy_score(y_test, y_pred_sigmoid),2))\n",
        "precision.append(round(precision_score(y_test, y_pred_sigmoid),2))\n",
        "f1.append(round(f1_score(y_test, y_pred_sigmoid),2))\n",
        "recall.append(round(recall_score(y_test, y_pred_sigmoid),2))\n",
        "\n",
        "# SVM lineal\n",
        "clf_linear_svc = LinearSVC()\n",
        "clf_linear_svc.fit(X_train, y_train)\n",
        "y_pred_linear_svc = clf_linear_svc.predict(X_test)\n",
        "\n",
        "modelName.append('SVM')\n",
        "accuracy.append(round(accuracy_score(y_test, y_pred_linear_svc),2))\n",
        "precision.append(round(precision_score(y_test, y_pred_linear_svc),2))\n",
        "f1.append(round(f1_score(y_test, y_pred_linear_svc),2))\n",
        "recall.append(round(recall_score(y_test, y_pred_linear_svc),2))\n",
        "\n",
        "df_measurements = pd.DataFrame()\n",
        "df_measurements['Modelo'] = modelName\n",
        "df_measurements['Exactitud'] = accuracy\n",
        "df_measurements['Precision'] = precision\n",
        "df_measurements['F1 Score'] = f1\n",
        "df_measurements['Recall'] = recall\n",
        "\n",
        "df_measurements.to_csv('./data_processed/SVM_measurements.csv', encoding='utf-8')"
      ]
    }
  ],
  "metadata": {
    "colab": {
      "provenance": []
    },
    "kernelspec": {
      "display_name": "Python 3",
      "name": "python3"
    },
    "language_info": {
      "codemirror_mode": {
        "name": "ipython",
        "version": 3
      },
      "file_extension": ".py",
      "mimetype": "text/x-python",
      "name": "python",
      "nbconvert_exporter": "python",
      "pygments_lexer": "ipython3",
      "version": "3.10.9"
    }
  },
  "nbformat": 4,
  "nbformat_minor": 0
}
